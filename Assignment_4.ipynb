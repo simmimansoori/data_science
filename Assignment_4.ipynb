{
 "cells": [
  {
   "cell_type": "markdown",
   "id": "a39f91eb-1241-4fae-91ce-5e38c4e20e35",
   "metadata": {},
   "source": [
    "1. What exactly is []?\n",
    "\n",
    "    ->  it is an empty list.  [] is use to create a list.\n"
   ]
  },
  {
   "cell_type": "code",
   "execution_count": 2,
   "id": "ee58e7df-eedd-48c7-9735-7cc2cce616e9",
   "metadata": {},
   "outputs": [
    {
     "data": {
      "text/plain": [
       "[]"
      ]
     },
     "execution_count": 2,
     "metadata": {},
     "output_type": "execute_result"
    }
   ],
   "source": [
    "[]"
   ]
  },
  {
   "cell_type": "markdown",
   "id": "a0f32a25-d68b-4a4a-93f8-a344dfbfe864",
   "metadata": {},
   "source": [
    "2. In a list of values stored in a variable called spam, how would you assign the value 'hello' as the third value? (Assume [2, 4, 6, 8, 10] are in spam.)\n",
    "\n",
    "    -> We can replace value using indexing.\n"
   ]
  },
  {
   "cell_type": "code",
   "execution_count": 5,
   "id": "dd4e640b-664a-4e32-b9fe-bc4f8c0382f7",
   "metadata": {},
   "outputs": [
    {
     "data": {
      "text/plain": [
       "[2, 4, 'hello', 8, 10]"
      ]
     },
     "execution_count": 5,
     "metadata": {},
     "output_type": "execute_result"
    }
   ],
   "source": [
    "spam = [2,4,6,8,10]\n",
    "spam [2] = 'hello'\n",
    "spam"
   ]
  },
  {
   "cell_type": "markdown",
   "id": "8964b2c2-e7d0-4e21-ac80-f206905d1269",
   "metadata": {},
   "source": [
    "Let's pretend the spam includes the list ['a', 'b', 'c', 'd'] for the next three queries.\n",
    "\n",
    "3. What is the value of spam[int(int('3' * 2) / 11)]?\n",
    "4. What is the value of spam[-1]?\n",
    "5. What is the value of spam[:2]?\n"
   ]
  },
  {
   "cell_type": "code",
   "execution_count": 2,
   "id": "75a63845-acf4-439a-aab2-c755b949c808",
   "metadata": {},
   "outputs": [],
   "source": [
    "spam = ['a', 'b', 'c', 'd']"
   ]
  },
  {
   "cell_type": "code",
   "execution_count": 7,
   "id": "281a2c52-a5cf-483a-b653-7e71d3dc875c",
   "metadata": {},
   "outputs": [
    {
     "data": {
      "text/plain": [
       "'d'"
      ]
     },
     "execution_count": 7,
     "metadata": {},
     "output_type": "execute_result"
    }
   ],
   "source": [
    "#3\n",
    "spam[int(int('3' * 2) / 11)] #33/11 = 3, so spam[3] = 'd'"
   ]
  },
  {
   "cell_type": "code",
   "execution_count": 8,
   "id": "1de03a19-0a66-4745-9f6b-e13a4013f751",
   "metadata": {},
   "outputs": [
    {
     "data": {
      "text/plain": [
       "'d'"
      ]
     },
     "execution_count": 8,
     "metadata": {},
     "output_type": "execute_result"
    }
   ],
   "source": [
    "#4\n",
    "spam[-1]"
   ]
  },
  {
   "cell_type": "code",
   "execution_count": 9,
   "id": "113f8e2a-6637-4702-9bc2-52a5c731519d",
   "metadata": {},
   "outputs": [
    {
     "data": {
      "text/plain": [
       "['a', 'b']"
      ]
     },
     "execution_count": 9,
     "metadata": {},
     "output_type": "execute_result"
    }
   ],
   "source": [
    "#5\n",
    "spam[:2] #it will start from 0 to 1 excluding outer bound i.e. 2"
   ]
  },
  {
   "cell_type": "markdown",
   "id": "158688ae-d450-44be-9b2e-a33bb6ab44ab",
   "metadata": {},
   "source": [
    "\n",
    "Let's pretend bacon has the list [3.14, 'cat,' 11, 'cat,' True] for the next three questions.\n",
    "\n",
    "    6. What is the value of bacon.index('cat')?\n",
    "    7. How does bacon.append(99) change the look of the list value in bacon?\n",
    "    8. How does bacon.remove('cat') change the look of the list in bacon?\n"
   ]
  },
  {
   "cell_type": "code",
   "execution_count": 16,
   "id": "a35773ac-700a-461f-8686-fa333b2a247a",
   "metadata": {},
   "outputs": [],
   "source": [
    "bacon =  [3.14, 'cat', 11, 'cat' ,True]"
   ]
  },
  {
   "cell_type": "code",
   "execution_count": 17,
   "id": "b8bc4ac9-fed4-4c69-be44-0aa686504335",
   "metadata": {},
   "outputs": [
    {
     "data": {
      "text/plain": [
       "1"
      ]
     },
     "execution_count": 17,
     "metadata": {},
     "output_type": "execute_result"
    }
   ],
   "source": [
    "#6.\n",
    "bacon.index('cat')   #it retrives the index of first position of cat"
   ]
  },
  {
   "cell_type": "code",
   "execution_count": 18,
   "id": "214056c8-2a8f-4525-b502-b67dbba9fe9c",
   "metadata": {},
   "outputs": [
    {
     "data": {
      "text/plain": [
       "[3.14, 'cat', 11, 'cat', True, 99]"
      ]
     },
     "execution_count": 18,
     "metadata": {},
     "output_type": "execute_result"
    }
   ],
   "source": [
    "#7. \n",
    "bacon.append(99)  #its always appends the new value in the last position in the list.\n",
    "bacon"
   ]
  },
  {
   "cell_type": "code",
   "execution_count": 19,
   "id": "e211601e-7264-420c-9dbc-7335514b3fe8",
   "metadata": {},
   "outputs": [
    {
     "data": {
      "text/plain": [
       "[3.14, 11, 'cat', True, 99]"
      ]
     },
     "execution_count": 19,
     "metadata": {},
     "output_type": "execute_result"
    }
   ],
   "source": [
    "#8.\n",
    "bacon.remove('cat') # Whichever element cat is first will be removed.only one item at a time.\n",
    "bacon"
   ]
  },
  {
   "cell_type": "markdown",
   "id": "c520d9ef-fdb2-4331-9be7-21353751f4e1",
   "metadata": {},
   "source": [
    "\n",
    "9. What are the list concatenation and list replication operators?\n",
    "\n",
    "    list concatenation operator is denoted by '+' . \n",
    "    List replication operator is denoted by '* '."
   ]
  },
  {
   "cell_type": "markdown",
   "id": "22cbb267-8537-40c8-82f5-b150dd37eb55",
   "metadata": {},
   "source": [
    "10. What is difference between the list methods append() and insert()?\n",
    "    \n",
    "    append() method : Its add value only to the end of list.\n",
    "    \n",
    "    insert() method : Add the value wherewhere we want in the list.\n",
    "    \n",
    "    "
   ]
  },
  {
   "cell_type": "code",
   "execution_count": 26,
   "id": "992df9db-37c0-4256-88fa-2af832c8b77c",
   "metadata": {},
   "outputs": [],
   "source": [
    "l = [2,3,4]\n",
    "l.append(6)\n",
    "l.insert(1,9)"
   ]
  },
  {
   "cell_type": "code",
   "execution_count": 27,
   "id": "81fce292-1c65-47cd-9ab7-db8c5435be99",
   "metadata": {},
   "outputs": [
    {
     "data": {
      "text/plain": [
       "[2, 9, 3, 4, 6]"
      ]
     },
     "execution_count": 27,
     "metadata": {},
     "output_type": "execute_result"
    }
   ],
   "source": [
    "l"
   ]
  },
  {
   "cell_type": "markdown",
   "id": "2e9911d0-4924-4199-b8eb-6c267727c47f",
   "metadata": {},
   "source": [
    "11. What are the two methods for removing items from a list?\n",
    "\n",
    "    There are two methods :\n",
    "    \n",
    "    pop() : this methods delete the value by referencing theire index no.\n",
    "    \n",
    "    remove() : this methods directly delete the value."
   ]
  },
  {
   "cell_type": "code",
   "execution_count": 32,
   "id": "3dc5169f-b5bc-44b9-a95f-33db92499320",
   "metadata": {},
   "outputs": [
    {
     "data": {
      "text/plain": [
       "[2, 4]"
      ]
     },
     "execution_count": 32,
     "metadata": {},
     "output_type": "execute_result"
    }
   ],
   "source": [
    "l = [2,3,4]\n",
    "l.pop(1)\n",
    "l"
   ]
  },
  {
   "cell_type": "code",
   "execution_count": 37,
   "id": "84b32ecd-b215-438c-86e6-8e4dc3627a56",
   "metadata": {},
   "outputs": [
    {
     "data": {
      "text/plain": [
       "[9, 4]"
      ]
     },
     "execution_count": 37,
     "metadata": {},
     "output_type": "execute_result"
    }
   ],
   "source": [
    "l = [9,2,4]\n",
    "l.remove(2)\n",
    "l"
   ]
  },
  {
   "cell_type": "markdown",
   "id": "27d83436-de67-4625-9e5b-804e3360e3fd",
   "metadata": {},
   "source": [
    "12. Describe how list values and string values are identical.\n",
    "    \n",
    "Ans: We can use len() method to both the values. \n",
    "    \n",
    "    We can perform all types of operation in both like slicing, concatenation, all operators.\n",
    "    \n",
    "    We can apply conditionals loops and also can use all types of operators. Hence they are identical"
   ]
  },
  {
   "cell_type": "markdown",
   "id": "60c50a66-bc5f-46fb-a32a-203ae48d7930",
   "metadata": {},
   "source": [
    "13. What's the difference between tuples and lists?\n",
    "\n",
    "    Tuples are immutable. its values cannot be added, modified or change ever.tuples are created by using parenthesis().\n",
    "    \n",
    "    Where the List is mutable.We can add, modify, change its value whenever we want.list is created by using square brakets [ ]"
   ]
  },
  {
   "cell_type": "code",
   "execution_count": 42,
   "id": "abe02d6a-a3f2-465e-b139-9fb7072049e2",
   "metadata": {},
   "outputs": [
    {
     "data": {
      "text/plain": [
       "[1, 2, 3]"
      ]
     },
     "execution_count": 42,
     "metadata": {},
     "output_type": "execute_result"
    }
   ],
   "source": [
    "t = (3,5,6,9)\n",
    "l = [1,2,3]"
   ]
  },
  {
   "cell_type": "markdown",
   "id": "46ec03dd-5fb4-4631-93b5-53f7fe2938fd",
   "metadata": {},
   "source": [
    "14. How do you type a tuple value that only contains the integer 42?\n",
    "\n",
    "    we can create tuple that contan the value 42 by writting it iseide paranthesis. t = (42)"
   ]
  },
  {
   "cell_type": "code",
   "execution_count": 44,
   "id": "2500c698-1d54-44b2-9bd7-0f99b05925fd",
   "metadata": {},
   "outputs": [
    {
     "data": {
      "text/plain": [
       "42"
      ]
     },
     "execution_count": 44,
     "metadata": {},
     "output_type": "execute_result"
    }
   ],
   "source": [
    "t = (42)\n",
    "t"
   ]
  },
  {
   "cell_type": "markdown",
   "id": "e7df8396-0cf9-420d-8bfe-72bdae9ade5a",
   "metadata": {},
   "source": [
    "15. How do you get a list value's tuple form? How do you get a tuple value's list form?\n",
    "    \n",
    "    we can use tuple() and list() functions\n"
   ]
  },
  {
   "cell_type": "markdown",
   "id": "6986e11e-7c0b-461f-bb1a-0320db96a9bb",
   "metadata": {},
   "source": [
    "16. Variables that \"contain\" list values are not necessarily lists themselves. Instead, what do they contain?\n",
    "    \n",
    "    if we create a variable that contains a list. it contain its references. which can be iterate.\n",
    "    "
   ]
  },
  {
   "cell_type": "code",
   "execution_count": 62,
   "id": "7790496c-8f96-462b-823e-f8e2dfe3109f",
   "metadata": {},
   "outputs": [],
   "source": [
    "x=[3,4,5]"
   ]
  },
  {
   "cell_type": "code",
   "execution_count": 63,
   "id": "28bfd6fc-f041-489d-ae11-2885ea9ebd7b",
   "metadata": {},
   "outputs": [
    {
     "data": {
      "text/plain": [
       "[3, 4, 5]"
      ]
     },
     "execution_count": 63,
     "metadata": {},
     "output_type": "execute_result"
    }
   ],
   "source": [
    "x"
   ]
  },
  {
   "cell_type": "markdown",
   "id": "47a77463-7e15-4b6e-ba21-6faf3a04b783",
   "metadata": {},
   "source": [
    "17. How do you distinguish between copy.copy() and copy.deepcopy()?\n",
    "\n",
    "    copy() returns the shallow copy of same list.\n",
    "    deepcopy() gives the deep copy of list.\n",
    "\n"
   ]
  },
  {
   "cell_type": "code",
   "execution_count": 87,
   "id": "2bdbecf1-091c-49ca-a568-c818bbc1db89",
   "metadata": {},
   "outputs": [],
   "source": []
  },
  {
   "cell_type": "code",
   "execution_count": 90,
   "id": "23c8a405-e500-4f29-9023-8c5b6fdf51e4",
   "metadata": {},
   "outputs": [],
   "source": []
  },
  {
   "cell_type": "code",
   "execution_count": null,
   "id": "2173d999-1474-4e1c-b012-03e3c184fc2b",
   "metadata": {},
   "outputs": [],
   "source": []
  },
  {
   "cell_type": "code",
   "execution_count": null,
   "id": "c4a3059a-ef48-47b9-969a-15e8fcb5e2a5",
   "metadata": {},
   "outputs": [],
   "source": []
  }
 ],
 "metadata": {
  "kernelspec": {
   "display_name": "Python 3 (ipykernel)",
   "language": "python",
   "name": "python3"
  },
  "language_info": {
   "codemirror_mode": {
    "name": "ipython",
    "version": 3
   },
   "file_extension": ".py",
   "mimetype": "text/x-python",
   "name": "python",
   "nbconvert_exporter": "python",
   "pygments_lexer": "ipython3",
   "version": "3.10.6"
  }
 },
 "nbformat": 4,
 "nbformat_minor": 5
}
